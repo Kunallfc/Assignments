{
 "cells": [
  {
   "cell_type": "code",
   "execution_count": 7,
   "id": "3ad30f10",
   "metadata": {},
   "outputs": [],
   "source": [
    "import numpy as np\n",
    "import pandas as pd\n",
    "import copy\n",
    "from matplotlib import pyplot as plt"
   ]
  },
  {
   "cell_type": "code",
   "execution_count": 23,
   "id": "d546fcd2",
   "metadata": {},
   "outputs": [],
   "source": [
    "class performance_matrix:\n",
    "    def __init__(self):\n",
    "        self.threshold = 0.5\n",
    "        self.confusion_matrix = np.arange(4).reshape(2, 2)\n",
    "\n",
    "    def read_file_and_get_data(self, file_name):\n",
    "        return pd.read_csv(file_name)\n",
    "\n",
    "    def get_confusion_matrix(self, data):\n",
    "        params = self.get_confusion_matrix_params(data)\n",
    "        self.confusion_matrix[0][0] = params[0]\n",
    "        self.confusion_matrix[0][1] = params[1]\n",
    "        self.confusion_matrix[1][0] = params[2]\n",
    "        self.confusion_matrix[1][1] = params[3]\n",
    "        return self.confusion_matrix\n",
    "\n",
    "    def get_confusion_matrix_params(self, data):\n",
    "        tn = 0\n",
    "        fn = 0\n",
    "        fp = 0\n",
    "        tp = 0\n",
    "        positives_predicted = data['proba'] >= self.threshold\n",
    "        predicted = positives_predicted.value_counts()\n",
    "        size_positives_predicted = predicted[True]\n",
    "        size_negative_predicted = len(data) - size_positives_predicted\n",
    "        if size_positives_predicted > 0:\n",
    "            actual_positive_points = data[positives_predicted]['y'] == 1\n",
    "            predicted = actual_positive_points.value_counts()\n",
    "            if True in predicted:\n",
    "                tp = predicted[True]\n",
    "            if False in predicted:\n",
    "                fp = predicted[False]\n",
    "\n",
    "        if size_negative_predicted > 0:\n",
    "            negative_predicted = data['proba'] < self.threshold\n",
    "            actual_negative_points = data[negative_predicted]['y'] == 0\n",
    "            predicted = actual_negative_points.value_counts()\n",
    "            if True in predicted:\n",
    "                tn = predicted[True]\n",
    "            if False in predicted:\n",
    "                fn = predicted[False]\n",
    "        return [tn, fn, fp, tp]\n",
    "\n",
    "\n"
   ]
  },
  {
   "cell_type": "code",
   "execution_count": 20,
   "id": "b51e7fd3",
   "metadata": {},
   "outputs": [
    {
     "name": "stdout",
     "output_type": "stream",
     "text": [
      "Confusion Matrix\n",
      "[[    0     0]\n",
      " [  100 10000]]\n",
      "Value of f1 score 0.9950248756218906\n",
      "AUC score 0.48829900000000004\n",
      "Accuracy 0.9900990099009901\n"
     ]
    }
   ],
   "source": [
    "performance_matrix = performance_matrix()\n",
    "file_name = \"/Users/kunalbudhiraja/Downloads/5_a.csv\"\n",
    "data = performance_matrix.read_file_and_get_data(file_name)\n",
    "data = data.sort_values('proba', ascending=False)\n",
    "confusion_matrix = performance_matrix.get_confusion_matrix(data)\n",
    "print(\"Confusion Matrix\")\n",
    "print(confusion_matrix)\n",
    "#\n",
    "## Print the F1-Score\n",
    "precision = confusion_matrix[1][1] / (confusion_matrix[1][1] + confusion_matrix[1][0])\n",
    "recall = confusion_matrix[1][1] / (confusion_matrix[1][1] + confusion_matrix[0][1])\n",
    "f1_score = 2 * precision * recall / (precision + recall)\n",
    "print(\"Value of f1 score\", f1_score)\n",
    "#\n",
    "## arrange the probabilities scores\n",
    "sorted_data = copy.copy(data.to_numpy())\n",
    "\n",
    "tpr = []\n",
    "fpr = []\n",
    "accuracy = []\n",
    "highest_accuracy = 0\n",
    "for each in sorted_data:\n",
    "    performance_matrix.threshold = each[1]\n",
    "    confusion_matrix = performance_matrix.get_confusion_matrix(data)\n",
    "    TP = confusion_matrix[1][1]\n",
    "    FP = confusion_matrix[1][0]\n",
    "    TN = confusion_matrix[0][0]\n",
    "    FN = confusion_matrix[0][1]\n",
    "    tpr.append(TP / (TP + FN))\n",
    "    fpr.append(FP / (TN + FP))\n",
    "    accuracy_current_iteration = (TP + TN) / (TP + TN + FP + FN)\n",
    "    accuracy.append(accuracy_current_iteration)\n",
    "    if accuracy_current_iteration > highest_accuracy:\n",
    "        highest_accuracy = accuracy_current_iteration\n",
    "\n",
    "print(\"AUC score \" + str(np.trapz(tpr, fpr)))\n",
    "print(\"Accuracy \" + str(highest_accuracy))"
   ]
  },
  {
   "cell_type": "markdown",
   "id": "090038a7",
   "metadata": {},
   "source": [
    "### ROC curve"
   ]
  },
  {
   "cell_type": "code",
   "execution_count": 17,
   "id": "05ba8463",
   "metadata": {},
   "outputs": [
    {
     "data": {
      "image/png": "[encoded data removed]",
      "text/plain": [
       "<Figure size 432x288 with 1 Axes>"
      ]
     },
     "metadata": {
      "needs_background": "light"
     },
     "output_type": "display_data"
    }
   ],
   "source": [
    "plt.plot(fpr,tpr)\n",
    "plt.xlabel(\"False Positivity Rate\")\n",
    "plt.ylabel(\"True Positivity Rate\")\n",
    "plt.title(\"ROC Curve\")\n",
    "plt.show()"
   ]
  },
  {
   "cell_type": "markdown",
   "id": "1a8e9f7e",
   "metadata": {},
   "source": [
    "## Task-2\n"
   ]
  },
  {
   "cell_type": "code",
   "execution_count": 24,
   "id": "2635f55b",
   "metadata": {},
   "outputs": [
    {
     "name": "stdout",
     "output_type": "stream",
     "text": [
      "Confusion Matrix\n",
      "[[9761   45]\n",
      " [ 239   55]]\n",
      "Value of f1 score 0.2791878172588833\n",
      "AUC score 0.9377570000000001\n",
      "Accuracy 0.995049504950495\n"
     ]
    }
   ],
   "source": [
    "performance_matrix = performance_matrix()\n",
    "file_name = \"/Users/kunalbudhiraja/Downloads/5_b.csv\"\n",
    "data = performance_matrix.read_file_and_get_data(file_name)\n",
    "data = data.sort_values('proba', ascending=False)\n",
    "confusion_matrix = performance_matrix.get_confusion_matrix(data)\n",
    "print(\"Confusion Matrix\")\n",
    "print(confusion_matrix)\n",
    "#\n",
    "## Print the F1-Score\n",
    "precision = confusion_matrix[1][1] / (confusion_matrix[1][1] + confusion_matrix[1][0])\n",
    "recall = confusion_matrix[1][1] / (confusion_matrix[1][1] + confusion_matrix[0][1])\n",
    "f1_score = 2 * precision * recall / (precision + recall)\n",
    "print(\"Value of f1 score\", f1_score)\n",
    "#\n",
    "## arrange the probabilities scores\n",
    "sorted_data = copy.copy(data.to_numpy())\n",
    "\n",
    "tpr = []\n",
    "fpr = []\n",
    "accuracy = []\n",
    "highest_accuracy = 0\n",
    "for each in sorted_data:\n",
    "    performance_matrix.threshold = each[1]\n",
    "    confusion_matrix = performance_matrix.get_confusion_matrix(data)\n",
    "    TP = confusion_matrix[1][1]\n",
    "    FP = confusion_matrix[1][0]\n",
    "    TN = confusion_matrix[0][0]\n",
    "    FN = confusion_matrix[0][1]\n",
    "    tpr.append(TP / (TP + FN))\n",
    "    fpr.append(FP / (TN + FP))\n",
    "    accuracy_current_iteration = (TP + TN) / (TP + TN + FP + FN)\n",
    "    accuracy.append(accuracy_current_iteration)\n",
    "    if accuracy_current_iteration > highest_accuracy:\n",
    "        highest_accuracy = accuracy_current_iteration\n",
    "\n",
    "print(\"AUC score \" + str(np.trapz(tpr, fpr)))\n",
    "print(\"Accuracy \" + str(highest_accuracy))"
   ]
  },
  {
   "cell_type": "code",
   "execution_count": 26,
   "id": "7f56a9cd",
   "metadata": {},
   "outputs": [
    {
     "name": "stdout",
     "output_type": "stream",
     "text": [
      "AUC score: 0.9377570000000001\n"
     ]
    }
   ],
   "source": [
    "print(\"AUC score: \"+str(np.trapz(tpr,fpr)))"
   ]
  },
  {
   "cell_type": "markdown",
   "id": "04c14e9b",
   "metadata": {},
   "source": [
    "## ROC curve"
   ]
  },
  {
   "cell_type": "code",
   "execution_count": 27,
   "id": "1f0ea16e",
   "metadata": {},
   "outputs": [
    {
     "data": {
      "image/png": "[encoded data removed]",
      "text/plain": [
       "<Figure size 432x288 with 1 Axes>"
      ]
     },
     "metadata": {
      "needs_background": "light"
     },
     "output_type": "display_data"
    }
   ],
   "source": [
    "plt.plot(fpr,tpr)\n",
    "plt.xlabel(\"False Positivity Rate\")\n",
    "plt.ylabel(\"True Positivity Rate\")\n",
    "plt.title(\"ROC Curve\")\n",
    "plt.show()"
   ]
  },
  {
   "cell_type": "markdown",
   "id": "d2a8fb52",
   "metadata": {},
   "source": [
    "## Task-3\n"
   ]
  },
  {
   "cell_type": "code",
   "execution_count": 28,
   "id": "638ea0b2",
   "metadata": {},
   "outputs": [
    {
     "name": "stdout",
     "output_type": "stream",
     "text": [
      "Highest threshold value 0.22992299229922994\n",
      "Lowest value of A:  141000\n"
     ]
    }
   ],
   "source": [
    "import numpy as np\n",
    "import pandas as pd\n",
    "import copy\n",
    "\n",
    "\n",
    "class performance_matrix:\n",
    "    def __init__(self):\n",
    "        self.threshold = 0.5\n",
    "        self.confusion_matrix = np.arange(4).reshape(2, 2)\n",
    "\n",
    "    def read_file_and_get_data(self, file_name):\n",
    "        return pd.read_csv(file_name)\n",
    "\n",
    "    def get_confusion_matrix(self, data):\n",
    "        params = self.get_confusion_matrix_params(data)\n",
    "        self.confusion_matrix[0][0] = params[0]\n",
    "        self.confusion_matrix[0][1] = params[1]\n",
    "        self.confusion_matrix[1][0] = params[2]\n",
    "        self.confusion_matrix[1][1] = params[3]\n",
    "        return self.confusion_matrix\n",
    "\n",
    "    def get_confusion_matrix_params(self, data):\n",
    "        tn = 0\n",
    "        fn = 0\n",
    "        fp = 0\n",
    "        tp = 0\n",
    "        positives_predicted = data['prob'] >= self.threshold\n",
    "        predicted = positives_predicted.value_counts()\n",
    "        if True in predicted:\n",
    "            size_positives_predicted = predicted[True]\n",
    "        else:\n",
    "            size_positives_predicted = 0\n",
    "        size_negative_predicted = len(data) - size_positives_predicted\n",
    "        if size_positives_predicted > 0:\n",
    "            actual_positive_points = data[positives_predicted]['y'] == 1\n",
    "            predicted = actual_positive_points.value_counts()\n",
    "            if True in predicted:\n",
    "                tp = predicted[True]\n",
    "            if False in predicted:\n",
    "                fp = predicted[False]\n",
    "\n",
    "        if size_negative_predicted > 0:\n",
    "            negative_predicted = data['prob'] < self.threshold\n",
    "            actual_negative_points = data[negative_predicted]['y'] == 0\n",
    "            predicted = actual_negative_points.value_counts()\n",
    "            if True in predicted:\n",
    "                tn = predicted[True]\n",
    "            if False in predicted:\n",
    "                fn = predicted[False]\n",
    "        return [tn, fn, fp, tp]\n",
    "\n",
    "\n",
    "values = np.linspace(0, 1, 10000)\n",
    "performance_matrix = performance_matrix()\n",
    "file_name = \"/Users/kunalbudhiraja/Downloads/5_c.csv\"\n",
    "data = performance_matrix.read_file_and_get_data(file_name)\n",
    "A_values = {}\n",
    "for each_value in values:\n",
    "    performance_matrix.threshold = each_value\n",
    "    confusion_matrix = performance_matrix.get_confusion_matrix(data)\n",
    "    A = 500 * confusion_matrix[0][1] + 100 * confusion_matrix[1][0]\n",
    "    A_values[each_value] = A\n",
    "\n",
    "sorted_dict_A = {k: v for k, v in sorted(A_values.items(), key=lambda item: item[1])}\n",
    "threshold_with_lowest_A = list(sorted_dict_A.keys())[0]\n",
    "## Highest A value corresponds to this threshold\n",
    "print(\"Highest threshold value\", threshold_with_lowest_A)\n",
    "print(\"Lowest value of A: \", sorted_dict_A[threshold_with_lowest_A])\n"
   ]
  },
  {
   "cell_type": "markdown",
   "id": "700bd8c9",
   "metadata": {},
   "source": [
    "## Task-4"
   ]
  },
  {
   "cell_type": "code",
   "execution_count": 29,
   "id": "632c37e6",
   "metadata": {},
   "outputs": [
    {
     "name": "stdout",
     "output_type": "stream",
     "text": [
      "Mean Squared Error 177.16569974554707\n",
      "Mean absolute percentage error 0.1291202994009687\n",
      "R Squared error 0.9563583447288622\n"
     ]
    }
   ],
   "source": [
    "import numpy as np\n",
    "import pandas as pd\n",
    "import copy\n",
    "\n",
    "\n",
    "class performance_matrix:\n",
    "    def __init__(self):\n",
    "        self.threshold = 0.5\n",
    "        self.confusion_matrix = np.arange(4).reshape(2, 2)\n",
    "\n",
    "    def read_file_and_get_data(self, file_name):\n",
    "        return pd.read_csv(file_name)\n",
    "\n",
    "    def mean_squared_error(self):\n",
    "        1 / n(observed_value - predicted_value) ^ 2\n",
    "\n",
    "values = np.linspace(0, 1, 50)\n",
    "performance_matrix = performance_matrix()\n",
    "file_name = \"/Users/kunalbudhiraja/Downloads/5_d.csv\"\n",
    "data = performance_matrix.read_file_and_get_data(file_name)\n",
    "## Mean Squared Error\n",
    "mse = (np.square(data['y'] - data['pred'])).mean(axis=0)\n",
    "print(\"Mean Squared Error\",mse)\n",
    "\n",
    "# ## Mean Absolute Percentage Error\n",
    "sum_actual_values = np.sum(data['y'])\n",
    "absolute_error = np.absolute(data['y'] - data['pred']).sum()\n",
    "MAPE = absolute_error / sum_actual_values\n",
    "print(\"Mean absolute percentage error\",MAPE)\n",
    "## R Squared Value\n",
    "rss = np.sum(np.square(data['pred'] - data['y']))\n",
    "tss = np.sum(np.square(data['y'] - data['pred'].mean(axis=0)))\n",
    "r_squared = 1-(rss/tss)\n",
    "print(\"R Squared error\",r_squared)"
   ]
  },
  {
   "cell_type": "code",
   "execution_count": null,
   "id": "89f35a60",
   "metadata": {},
   "outputs": [],
   "source": []
  }
 ],
 "metadata": {
  "kernelspec": {
   "display_name": "py_36_env",
   "language": "python",
   "name": "py_36_env"
  },
  "language_info": {
   "codemirror_mode": {
    "name": "ipython",
    "version": 3
   },
   "file_extension": ".py",
   "mimetype": "text/x-python",
   "name": "python",
   "nbconvert_exporter": "python",
   "pygments_lexer": "ipython3",
   "version": "3.9.7"
  }
 },
 "nbformat": 4,
 "nbformat_minor": 5
}
